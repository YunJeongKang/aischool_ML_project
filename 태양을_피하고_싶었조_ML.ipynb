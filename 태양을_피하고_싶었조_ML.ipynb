{
 "cells": [
  {
   "cell_type": "markdown",
   "id": "60d2842c",
   "metadata": {},
   "source": [
    "## 1. 문제 제기\n",
    "* 주제 : 태양광 발전량 예측을 통해 휴전점검일과 관리 필요성 알림"
   ]
  },
  {
   "cell_type": "markdown",
   "id": "9199afff",
   "metadata": {},
   "source": [
    "## 2. 데이터 구하기\n",
    "* 1. 기상자료개방포털 : https://data.kma.go.kr/cmmn/main.do\n",
    "* 2. DNE Solar : http://www.qs2200.co.kr/SrMain/SM020.aspx"
   ]
  },
  {
   "cell_type": "markdown",
   "id": "cc166d8a",
   "metadata": {},
   "source": [
    "## 3. 타겟변수 설정\n",
    "* 타겟변수명 : 발전량\n",
    "* 타겟변수값 : 실수"
   ]
  },
  {
   "cell_type": "markdown",
   "id": "9c9f69e2",
   "metadata": {},
   "source": [
    "## 4. 데이터 처리\n",
    "* 4-1 데이터 불러오기\n",
    "* 4-2 ID 변수 설정\n",
    "* 4-3 타겟변수 생성\n",
    "* 4-4 기타 변수 데이터 처리\n",
    "* 결과 파일 "
   ]
  },
  {
   "cell_type": "markdown",
   "id": "fc222366",
   "metadata": {},
   "source": [
    "### 4-1. 데이터 불러오기"
   ]
  },
  {
   "cell_type": "code",
   "execution_count": 3,
   "id": "92168f18",
   "metadata": {},
   "outputs": [
    {
     "data": {
      "text/html": [
       "<div>\n",
       "<style scoped>\n",
       "    .dataframe tbody tr th:only-of-type {\n",
       "        vertical-align: middle;\n",
       "    }\n",
       "\n",
       "    .dataframe tbody tr th {\n",
       "        vertical-align: top;\n",
       "    }\n",
       "\n",
       "    .dataframe thead th {\n",
       "        text-align: right;\n",
       "    }\n",
       "</style>\n",
       "<table border=\"1\" class=\"dataframe\">\n",
       "  <thead>\n",
       "    <tr style=\"text-align: right;\">\n",
       "      <th></th>\n",
       "      <th>날짜</th>\n",
       "      <th>발전기명</th>\n",
       "      <th>최고기온(℃)</th>\n",
       "      <th>최저기온(℃)</th>\n",
       "      <th>강수량(mm)</th>\n",
       "      <th>평균풍속(m/s)</th>\n",
       "      <th>평균 전운량(1/10)</th>\n",
       "      <th>발전량(kWh)</th>\n",
       "    </tr>\n",
       "  </thead>\n",
       "  <tbody>\n",
       "    <tr>\n",
       "      <th>0</th>\n",
       "      <td>2021-06-01</td>\n",
       "      <td>광양항광양냉장태양광</td>\n",
       "      <td>28.8</td>\n",
       "      <td>15.4</td>\n",
       "      <td>NaN</td>\n",
       "      <td>0.9</td>\n",
       "      <td>4.9</td>\n",
       "      <td>4.244454</td>\n",
       "    </tr>\n",
       "    <tr>\n",
       "      <th>1</th>\n",
       "      <td>2021-06-02</td>\n",
       "      <td>광양항광양냉장태양광</td>\n",
       "      <td>28.6</td>\n",
       "      <td>17.7</td>\n",
       "      <td>NaN</td>\n",
       "      <td>0.8</td>\n",
       "      <td>7.9</td>\n",
       "      <td>3.248909</td>\n",
       "    </tr>\n",
       "    <tr>\n",
       "      <th>2</th>\n",
       "      <td>2021-06-03</td>\n",
       "      <td>광양항광양냉장태양광</td>\n",
       "      <td>20.6</td>\n",
       "      <td>17.9</td>\n",
       "      <td>22.0</td>\n",
       "      <td>1.2</td>\n",
       "      <td>9.6</td>\n",
       "      <td>0.729910</td>\n",
       "    </tr>\n",
       "  </tbody>\n",
       "</table>\n",
       "</div>"
      ],
      "text/plain": [
       "           날짜        발전기명  최고기온(℃)  최저기온(℃)  강수량(mm)  평균풍속(m/s)  평균 전운량(1/10)  \\\n",
       "0  2021-06-01  광양항광양냉장태양광     28.8     15.4      NaN        0.9           4.9   \n",
       "1  2021-06-02  광양항광양냉장태양광     28.6     17.7      NaN        0.8           7.9   \n",
       "2  2021-06-03  광양항광양냉장태양광     20.6     17.9     22.0        1.2           9.6   \n",
       "\n",
       "   발전량(kWh)  \n",
       "0  4.244454  \n",
       "1  3.248909  \n",
       "2  0.729910  "
      ]
     },
     "execution_count": 3,
     "metadata": {},
     "output_type": "execute_result"
    }
   ],
   "source": [
    "import pandas as pd\n",
    "import numpy as np\n",
    "\n",
    "df = pd.read_csv('태양광_데이터_통합.csv', encoding=\"cp949\")\n",
    "\n",
    "df.head(3)"
   ]
  },
  {
   "cell_type": "code",
   "execution_count": 4,
   "id": "ada3d08a",
   "metadata": {},
   "outputs": [
    {
     "data": {
      "text/plain": [
       "(4887, 8)"
      ]
     },
     "execution_count": 4,
     "metadata": {},
     "output_type": "execute_result"
    }
   ],
   "source": [
    "# 데이터프레임 df행과 열 차원 확인\n",
    "df.shape"
   ]
  },
  {
   "cell_type": "code",
   "execution_count": 5,
   "id": "f76b1f2e",
   "metadata": {},
   "outputs": [
    {
     "name": "stdout",
     "output_type": "stream",
     "text": [
      "<class 'pandas.core.frame.DataFrame'>\n",
      "RangeIndex: 4887 entries, 0 to 4886\n",
      "Data columns (total 8 columns):\n",
      " #   Column        Non-Null Count  Dtype  \n",
      "---  ------        --------------  -----  \n",
      " 0   날짜            4887 non-null   object \n",
      " 1   발전기명          4887 non-null   object \n",
      " 2   최고기온(℃)       4887 non-null   float64\n",
      " 3   최저기온(℃)       4887 non-null   float64\n",
      " 4   강수량(mm)       1744 non-null   float64\n",
      " 5   평균풍속(m/s)     4886 non-null   float64\n",
      " 6   평균 전운량(1/10)  4885 non-null   float64\n",
      " 7   발전량(kWh)      4887 non-null   float64\n",
      "dtypes: float64(6), object(2)\n",
      "memory usage: 305.6+ KB\n"
     ]
    }
   ],
   "source": [
    "# 데이터프레임 df 정보(info) 확인\n",
    "df.info()"
   ]
  },
  {
   "cell_type": "markdown",
   "id": "004f44ed",
   "metadata": {},
   "source": [
    "### 4-2 ID 변수 설정\n",
    "* ID 변수 데이터 타입\n",
    "* 결측값\n",
    "* 중복 여부\n",
    "* 숫자가 아닌 값"
   ]
  },
  {
   "cell_type": "code",
   "execution_count": 6,
   "id": "a7fef6b4",
   "metadata": {},
   "outputs": [
    {
     "ename": "KeyError",
     "evalue": "'일강수량(mm)'",
     "output_type": "error",
     "traceback": [
      "\u001b[1;31m---------------------------------------------------------------------------\u001b[0m",
      "\u001b[1;31mKeyError\u001b[0m                                  Traceback (most recent call last)",
      "File \u001b[1;32m~\\.conda\\envs\\Song\\lib\\site-packages\\pandas\\core\\indexes\\base.py:3621\u001b[0m, in \u001b[0;36mIndex.get_loc\u001b[1;34m(self, key, method, tolerance)\u001b[0m\n\u001b[0;32m   3620\u001b[0m \u001b[38;5;28;01mtry\u001b[39;00m:\n\u001b[1;32m-> 3621\u001b[0m     \u001b[38;5;28;01mreturn\u001b[39;00m \u001b[38;5;28;43mself\u001b[39;49m\u001b[38;5;241;43m.\u001b[39;49m\u001b[43m_engine\u001b[49m\u001b[38;5;241;43m.\u001b[39;49m\u001b[43mget_loc\u001b[49m\u001b[43m(\u001b[49m\u001b[43mcasted_key\u001b[49m\u001b[43m)\u001b[49m\n\u001b[0;32m   3622\u001b[0m \u001b[38;5;28;01mexcept\u001b[39;00m \u001b[38;5;167;01mKeyError\u001b[39;00m \u001b[38;5;28;01mas\u001b[39;00m err:\n",
      "File \u001b[1;32m~\\.conda\\envs\\Song\\lib\\site-packages\\pandas\\_libs\\index.pyx:136\u001b[0m, in \u001b[0;36mpandas._libs.index.IndexEngine.get_loc\u001b[1;34m()\u001b[0m\n",
      "File \u001b[1;32m~\\.conda\\envs\\Song\\lib\\site-packages\\pandas\\_libs\\index.pyx:163\u001b[0m, in \u001b[0;36mpandas._libs.index.IndexEngine.get_loc\u001b[1;34m()\u001b[0m\n",
      "File \u001b[1;32mpandas\\_libs\\hashtable_class_helper.pxi:5198\u001b[0m, in \u001b[0;36mpandas._libs.hashtable.PyObjectHashTable.get_item\u001b[1;34m()\u001b[0m\n",
      "File \u001b[1;32mpandas\\_libs\\hashtable_class_helper.pxi:5206\u001b[0m, in \u001b[0;36mpandas._libs.hashtable.PyObjectHashTable.get_item\u001b[1;34m()\u001b[0m\n",
      "\u001b[1;31mKeyError\u001b[0m: '일강수량(mm)'",
      "\nThe above exception was the direct cause of the following exception:\n",
      "\u001b[1;31mKeyError\u001b[0m                                  Traceback (most recent call last)",
      "Input \u001b[1;32mIn [6]\u001b[0m, in \u001b[0;36m<cell line: 2>\u001b[1;34m()\u001b[0m\n\u001b[0;32m      1\u001b[0m \u001b[38;5;66;03m# ID 변수인 id  데이터 타입 확인\u001b[39;00m\n\u001b[1;32m----> 2\u001b[0m \u001b[43mdf\u001b[49m\u001b[43m[\u001b[49m\u001b[38;5;124;43m'\u001b[39;49m\u001b[38;5;124;43m일강수량(mm)\u001b[39;49m\u001b[38;5;124;43m'\u001b[39;49m\u001b[43m]\u001b[49m\u001b[38;5;241m.\u001b[39mdtype\n",
      "File \u001b[1;32m~\\.conda\\envs\\Song\\lib\\site-packages\\pandas\\core\\frame.py:3505\u001b[0m, in \u001b[0;36mDataFrame.__getitem__\u001b[1;34m(self, key)\u001b[0m\n\u001b[0;32m   3503\u001b[0m \u001b[38;5;28;01mif\u001b[39;00m \u001b[38;5;28mself\u001b[39m\u001b[38;5;241m.\u001b[39mcolumns\u001b[38;5;241m.\u001b[39mnlevels \u001b[38;5;241m>\u001b[39m \u001b[38;5;241m1\u001b[39m:\n\u001b[0;32m   3504\u001b[0m     \u001b[38;5;28;01mreturn\u001b[39;00m \u001b[38;5;28mself\u001b[39m\u001b[38;5;241m.\u001b[39m_getitem_multilevel(key)\n\u001b[1;32m-> 3505\u001b[0m indexer \u001b[38;5;241m=\u001b[39m \u001b[38;5;28;43mself\u001b[39;49m\u001b[38;5;241;43m.\u001b[39;49m\u001b[43mcolumns\u001b[49m\u001b[38;5;241;43m.\u001b[39;49m\u001b[43mget_loc\u001b[49m\u001b[43m(\u001b[49m\u001b[43mkey\u001b[49m\u001b[43m)\u001b[49m\n\u001b[0;32m   3506\u001b[0m \u001b[38;5;28;01mif\u001b[39;00m is_integer(indexer):\n\u001b[0;32m   3507\u001b[0m     indexer \u001b[38;5;241m=\u001b[39m [indexer]\n",
      "File \u001b[1;32m~\\.conda\\envs\\Song\\lib\\site-packages\\pandas\\core\\indexes\\base.py:3623\u001b[0m, in \u001b[0;36mIndex.get_loc\u001b[1;34m(self, key, method, tolerance)\u001b[0m\n\u001b[0;32m   3621\u001b[0m     \u001b[38;5;28;01mreturn\u001b[39;00m \u001b[38;5;28mself\u001b[39m\u001b[38;5;241m.\u001b[39m_engine\u001b[38;5;241m.\u001b[39mget_loc(casted_key)\n\u001b[0;32m   3622\u001b[0m \u001b[38;5;28;01mexcept\u001b[39;00m \u001b[38;5;167;01mKeyError\u001b[39;00m \u001b[38;5;28;01mas\u001b[39;00m err:\n\u001b[1;32m-> 3623\u001b[0m     \u001b[38;5;28;01mraise\u001b[39;00m \u001b[38;5;167;01mKeyError\u001b[39;00m(key) \u001b[38;5;28;01mfrom\u001b[39;00m \u001b[38;5;21;01merr\u001b[39;00m\n\u001b[0;32m   3624\u001b[0m \u001b[38;5;28;01mexcept\u001b[39;00m \u001b[38;5;167;01mTypeError\u001b[39;00m:\n\u001b[0;32m   3625\u001b[0m     \u001b[38;5;66;03m# If we have a listlike key, _check_indexing_error will raise\u001b[39;00m\n\u001b[0;32m   3626\u001b[0m     \u001b[38;5;66;03m#  InvalidIndexError. Otherwise we fall through and re-raise\u001b[39;00m\n\u001b[0;32m   3627\u001b[0m     \u001b[38;5;66;03m#  the TypeError.\u001b[39;00m\n\u001b[0;32m   3628\u001b[0m     \u001b[38;5;28mself\u001b[39m\u001b[38;5;241m.\u001b[39m_check_indexing_error(key)\n",
      "\u001b[1;31mKeyError\u001b[0m: '일강수량(mm)'"
     ]
    }
   ],
   "source": [
    "# ID 변수인 id  데이터 타입 확인\n",
    "df['일강수량(mm)'].dtype"
   ]
  },
  {
   "cell_type": "code",
   "execution_count": null,
   "id": "cd734af2",
   "metadata": {},
   "outputs": [],
   "source": [
    "# ID 변수인 id 값의 결측값 확인\n",
    "df['일강수량(mm)'].isnull().sum()"
   ]
  },
  {
   "cell_type": "code",
   "execution_count": 7,
   "id": "5f37640a",
   "metadata": {},
   "outputs": [
    {
     "data": {
      "text/plain": [
       "145"
      ]
     },
     "execution_count": 7,
     "metadata": {},
     "output_type": "execute_result"
    }
   ],
   "source": [
    "# ID 변수인 id 값의 중복 여부를 체크하기 위해 유일한(unique) 값의 개수 체크\n",
    "n = len(pd.unique(df['일강수량(mm)']))  # pd.unique는 유일한 변수값을 출력하고 len은 값의 개수를 카운트 한다.\n",
    "n"
   ]
  },
  {
   "cell_type": "code",
   "execution_count": 8,
   "id": "988695ef",
   "metadata": {},
   "outputs": [
    {
     "data": {
      "text/plain": [
       "641"
      ]
     },
     "execution_count": 8,
     "metadata": {},
     "output_type": "execute_result"
    }
   ],
   "source": [
    "#  숫자형태가 아닌 SERIALNO의 갯수를 세튼 파이썬 코드\n",
    "mask = pd.to_numeric(df['일강수량(mm)'], errors='coerce').isna()\n",
    "a=mask.sum()\n",
    "a"
   ]
  },
  {
   "cell_type": "markdown",
   "id": "cf28c399",
   "metadata": {},
   "source": [
    "### 4-3. 타겟 변수 생성"
   ]
  },
  {
   "cell_type": "code",
   "execution_count": 9,
   "id": "f9df3cda",
   "metadata": {},
   "outputs": [
    {
     "data": {
      "text/plain": [
       "dtype('float64')"
      ]
     },
     "execution_count": 9,
     "metadata": {},
     "output_type": "execute_result"
    }
   ],
   "source": [
    "# 타켓변수 데이터 타입 확인\n",
    "df['발전량'].dtype"
   ]
  },
  {
   "cell_type": "code",
   "execution_count": 10,
   "id": "e470bd53",
   "metadata": {},
   "outputs": [
    {
     "data": {
      "text/plain": [
       "0"
      ]
     },
     "execution_count": 10,
     "metadata": {},
     "output_type": "execute_result"
    }
   ],
   "source": [
    "# 타켓변수 결측값 확인.\n",
    "df['발전량'].isnull().sum()"
   ]
  },
  {
   "cell_type": "code",
   "execution_count": 11,
   "id": "75d93b4b",
   "metadata": {},
   "outputs": [
    {
     "data": {
      "text/plain": [
       "0.0      6\n",
       "376.6    3\n",
       "528.8    3\n",
       "341.6    3\n",
       "437.2    3\n",
       "        ..\n",
       "349.3    1\n",
       "473.9    1\n",
       "248.0    1\n",
       "82.7     1\n",
       "316.9    1\n",
       "Name: 발전량, Length: 864, dtype: int64"
      ]
     },
     "execution_count": 11,
     "metadata": {},
     "output_type": "execute_result"
    }
   ],
   "source": [
    "# 타켓변수 클래스(0, 1값) 갯수 확인\n",
    "df['발전량'].value_counts(dropna=False)"
   ]
  },
  {
   "cell_type": "code",
   "execution_count": 12,
   "id": "2b4b7b5b",
   "metadata": {},
   "outputs": [
    {
     "data": {
      "text/plain": [
       "0.0      0.006363\n",
       "376.6    0.003181\n",
       "528.8    0.003181\n",
       "341.6    0.003181\n",
       "437.2    0.003181\n",
       "           ...   \n",
       "349.3    0.001060\n",
       "473.9    0.001060\n",
       "248.0    0.001060\n",
       "82.7     0.001060\n",
       "316.9    0.001060\n",
       "Name: 발전량, Length: 864, dtype: float64"
      ]
     },
     "execution_count": 12,
     "metadata": {},
     "output_type": "execute_result"
    }
   ],
   "source": [
    "df['발전량'].value_counts(dropna=False, normalize=True)"
   ]
  },
  {
   "cell_type": "markdown",
   "id": "b96d2617",
   "metadata": {},
   "source": [
    "## 6. 머신러닝 모델 실행\n",
    "* 머신러닝 모델 수립\n",
    "* 데이터 추가 처리(문자형 데이터)\n",
    "* 데이터 분할 및 대체\n",
    "* 결과 파일 저장"
   ]
  },
  {
   "cell_type": "markdown",
   "id": "e39208c0",
   "metadata": {},
   "source": [
    "### 6-2. 데이터 추가 처리"
   ]
  },
  {
   "cell_type": "code",
   "execution_count": 2,
   "id": "0683cd46",
   "metadata": {},
   "outputs": [
    {
     "data": {
      "text/plain": [
       "(943, 8)"
      ]
     },
     "execution_count": 2,
     "metadata": {},
     "output_type": "execute_result"
    }
   ],
   "source": [
    "import pandas as pd\n",
    "import numpy as np\n",
    "\n",
    "df = pd.read_csv('태양광_데이터.csv')\n",
    "df.shape"
   ]
  },
  {
   "cell_type": "code",
   "execution_count": 3,
   "id": "6318da92",
   "metadata": {},
   "outputs": [
    {
     "name": "stdout",
     "output_type": "stream",
     "text": [
      "<class 'pandas.core.frame.DataFrame'>\n",
      "RangeIndex: 943 entries, 0 to 942\n",
      "Data columns (total 8 columns):\n",
      " #   Column        Non-Null Count  Dtype  \n",
      "---  ------        --------------  -----  \n",
      " 0   일자            943 non-null    object \n",
      " 1   지점명           943 non-null    object \n",
      " 2   최저기온(°C)      943 non-null    float64\n",
      " 3   최고기온(°C)      943 non-null    float64\n",
      " 4   일강수량(mm)      302 non-null    float64\n",
      " 5   평균 풍속(m/s)    942 non-null    float64\n",
      " 6   평균 전운량(1/10)  941 non-null    float64\n",
      " 7   발전량           943 non-null    float64\n",
      "dtypes: float64(6), object(2)\n",
      "memory usage: 59.1+ KB\n"
     ]
    }
   ],
   "source": [
    "# 데이터프레임 변수 데이터타입 확인.\n",
    "df.info()"
   ]
  },
  {
   "cell_type": "code",
   "execution_count": 4,
   "id": "70f83f23",
   "metadata": {},
   "outputs": [
    {
     "data": {
      "text/plain": [
       "Index(['일자', '지점명', '최저기온(°C)', '최고기온(°C)', '일강수량(mm)', '평균 풍속(m/s)',\n",
       "       '평균 전운량(1/10)', '발전량'],\n",
       "      dtype='object')"
      ]
     },
     "execution_count": 4,
     "metadata": {},
     "output_type": "execute_result"
    }
   ],
   "source": [
    "# 컬럼명(변수명) 구하기 \n",
    "df.columns"
   ]
  },
  {
   "cell_type": "code",
   "execution_count": 5,
   "id": "04e829fa",
   "metadata": {
    "scrolled": true
   },
   "outputs": [
    {
     "data": {
      "text/plain": [
       "['일자',\n",
       " '지점명',\n",
       " '최저기온(°C)',\n",
       " '최고기온(°C)',\n",
       " '일강수량(mm)',\n",
       " '평균 풍속(m/s)',\n",
       " '평균 전운량(1/10)',\n",
       " '발전량']"
      ]
     },
     "execution_count": 5,
     "metadata": {},
     "output_type": "execute_result"
    }
   ],
   "source": [
    "# 컬럼명(변수명) 구하기 \n",
    "list(df.columns)"
   ]
  },
  {
   "cell_type": "markdown",
   "id": "29559719",
   "metadata": {},
   "source": [
    "## 6.3 데이터 분할 및 대체"
   ]
  },
  {
   "cell_type": "code",
   "execution_count": 8,
   "id": "61aaa05d",
   "metadata": {},
   "outputs": [
    {
     "name": "stdout",
     "output_type": "stream",
     "text": [
      "<class 'pandas.core.frame.DataFrame'>\n",
      "RangeIndex: 943 entries, 0 to 942\n",
      "Data columns (total 5 columns):\n",
      " #   Column        Non-Null Count  Dtype  \n",
      "---  ------        --------------  -----  \n",
      " 0   최저기온(°C)      943 non-null    float64\n",
      " 1   최고기온(°C)      943 non-null    float64\n",
      " 2   일강수량(mm)      943 non-null    float64\n",
      " 3   평균 풍속(m/s)    943 non-null    float64\n",
      " 4   평균 전운량(1/10)  943 non-null    float64\n",
      "dtypes: float64(5)\n",
      "memory usage: 37.0 KB\n"
     ]
    },
    {
     "data": {
      "text/plain": [
       "(None,\n",
       " 0      1.292929\n",
       " 1      0.770707\n",
       " 2      1.485859\n",
       " 3      0.798990\n",
       " 4      1.966667\n",
       "          ...   \n",
       " 938    5.275758\n",
       " 939    4.516162\n",
       " 940    5.872727\n",
       " 941    3.627273\n",
       " 942    3.201010\n",
       " Name: 발전량, Length: 943, dtype: float64)"
      ]
     },
     "execution_count": 8,
     "metadata": {},
     "output_type": "execute_result"
    }
   ],
   "source": [
    "data = df[[\n",
    "    '최저기온(°C)',\n",
    "    '최고기온(°C)',\n",
    "    '일강수량(mm)',\n",
    "    '평균 풍속(m/s)',\n",
    "    '평균 전운량(1/10)'\n",
    "]] # 타켓변수를 제외한 변수만 data에 저장\n",
    "\n",
    "target = df['발전량'].div(99)              # 타켓변수만 target에 저장.\n",
    "data = data.fillna(0)\n",
    "data.info(), target"
   ]
  },
  {
   "cell_type": "code",
   "execution_count": 18,
   "id": "6da4932a",
   "metadata": {},
   "outputs": [
    {
     "data": {
      "text/plain": [
       "(943,)"
      ]
     },
     "execution_count": 18,
     "metadata": {},
     "output_type": "execute_result"
    }
   ],
   "source": [
    "target.shape"
   ]
  },
  {
   "cell_type": "code",
   "execution_count": 19,
   "id": "5637f882",
   "metadata": {},
   "outputs": [
    {
     "data": {
      "text/plain": [
       "0.0      6\n",
       "376.6    3\n",
       "528.8    3\n",
       "341.6    3\n",
       "437.2    3\n",
       "        ..\n",
       "349.3    1\n",
       "473.9    1\n",
       "248.0    1\n",
       "82.7     1\n",
       "316.9    1\n",
       "Name: 발전량, Length: 864, dtype: int64"
      ]
     },
     "execution_count": 19,
     "metadata": {},
     "output_type": "execute_result"
    }
   ],
   "source": [
    "df['발전량'].value_counts(dropna=False)"
   ]
  },
  {
   "cell_type": "code",
   "execution_count": 20,
   "id": "c71ce627",
   "metadata": {},
   "outputs": [
    {
     "name": "stdout",
     "output_type": "stream",
     "text": [
      "X_train shape:  (754, 5)\n",
      "X_test shape:  (189, 5)\n"
     ]
    }
   ],
   "source": [
    "from sklearn.model_selection import train_test_split\n",
    "X_train, X_test, y_train, y_test = train_test_split(\n",
    "data, target, test_size = 0.2, random_state=42)\n",
    "\n",
    "print(\"X_train shape: \", X_train.shape)\n",
    "print(\"X_test shape: \", X_test.shape)"
   ]
  },
  {
   "cell_type": "code",
   "execution_count": 21,
   "id": "290242fc",
   "metadata": {},
   "outputs": [
    {
     "name": "stdout",
     "output_type": "stream",
     "text": [
      "y_train shape:  (754,)\n",
      "y_test shape:  (189,)\n"
     ]
    }
   ],
   "source": [
    "print(\"y_train shape: \", y_train.shape)\n",
    "print(\"y_test shape: \", y_test.shape)"
   ]
  },
  {
   "cell_type": "code",
   "execution_count": 22,
   "id": "2436d016",
   "metadata": {},
   "outputs": [
    {
     "data": {
      "text/plain": [
       "0.0      0.005305\n",
       "437.2    0.003979\n",
       "528.8    0.003979\n",
       "376.6    0.003979\n",
       "431.6    0.003979\n",
       "           ...   \n",
       "79.1     0.001326\n",
       "214.4    0.001326\n",
       "418.6    0.001326\n",
       "61.8     0.001326\n",
       "433.0    0.001326\n",
       "Name: 발전량, Length: 702, dtype: float64"
      ]
     },
     "execution_count": 22,
     "metadata": {},
     "output_type": "execute_result"
    }
   ],
   "source": [
    "y_train.value_counts(normalize=True)"
   ]
  },
  {
   "cell_type": "markdown",
   "id": "56e07c7b",
   "metadata": {},
   "source": [
    "### ML 모델 구현해 주세요"
   ]
  },
  {
   "cell_type": "code",
   "execution_count": 23,
   "id": "cf9d15f0",
   "metadata": {},
   "outputs": [
    {
     "name": "stdout",
     "output_type": "stream",
     "text": [
      "Accuracy on training set:1.00000\n",
      "Accuracy on test set:0.36522\n"
     ]
    }
   ],
   "source": [
    "from sklearn.tree import DecisionTreeRegressor\n",
    "tree = DecisionTreeRegressor(random_state=0)\n",
    "tree.fit(X_train, y_train)\n",
    "\n",
    "print(\"Accuracy on training set:{:.5f}\".format(tree.score(X_train, y_train)))\n",
    "print(\"Accuracy on test set:{:.5f}\".format(tree.score(X_test, y_test)))"
   ]
  },
  {
   "cell_type": "code",
   "execution_count": 24,
   "id": "fadd99b5",
   "metadata": {},
   "outputs": [
    {
     "name": "stdout",
     "output_type": "stream",
     "text": [
      "Accuracy on training set:0.76699\n",
      "Accuracy on test set:0.69701\n",
      "최적의 하이퍼 파라미터 : {'max_depth': 6, 'min_samples_leaf': 4, 'min_samples_split': 8, 'n_estimators': 100}\n",
      "최적의 예측 정확도 : 0.6157721290256067\n"
     ]
    }
   ],
   "source": [
    "from sklearn.ensemble import RandomForestRegressor\n",
    "from sklearn.model_selection import GridSearchCV\n",
    "\n",
    "params = {\n",
    "    'n_estimators':[100],\n",
    "    'max_depth':[2 ,4 ,6, 8, 10, 12],\n",
    "    'min_samples_leaf':[2 ,4, 6, 8, 12, 18],\n",
    "    'min_samples_split':[2 ,4, 6, 8, 16, 20]\n",
    "}\n",
    "\n",
    "stroke_model_RFR = RandomForestRegressor(n_jobs=-1)\n",
    "\n",
    "stroke_model_RFR_grid_cv = GridSearchCV(stroke_model_RFR, param_grid = params, cv=2, n_jobs=-1)\n",
    "\n",
    "stroke_model_RFR_grid_cv.fit(X_train, y_train)\n",
    "\n",
    "print(\"Accuracy on training set:{:.5f}\".format(stroke_model_RFR_grid_cv.score(X_train, y_train)))\n",
    "print(\"Accuracy on test set:{:.5f}\".format(stroke_model_RFR_grid_cv.score(X_test, y_test)))\n",
    "print('최적의 하이퍼 파라미터 :',stroke_model_RFR_grid_cv.best_params_)\n",
    "print('최적의 예측 정확도 :',stroke_model_RFR_grid_cv.best_score_)"
   ]
  },
  {
   "cell_type": "code",
   "execution_count": 25,
   "id": "2d9a5608",
   "metadata": {},
   "outputs": [
    {
     "name": "stdout",
     "output_type": "stream",
     "text": [
      "Accuracy on training set:0.73688\n",
      "Accuracy on test set:0.68683\n",
      "최적의 하이퍼 파라미터 : {'max_depth': 2, 'min_samples_leaf': 18, 'min_samples_split': 2, 'n_estimators': 100}\n",
      "최적의 예측 정확도 : 0.640781094532175\n"
     ]
    }
   ],
   "source": [
    "from sklearn.ensemble import GradientBoostingRegressor\n",
    "from sklearn.model_selection import GridSearchCV\n",
    "\n",
    "params = {\n",
    "    'n_estimators':[100],\n",
    "    'max_depth':[2 ,4 ,6, 8, 10, 12],\n",
    "    'min_samples_leaf':[2 ,4, 6, 8, 12, 18],\n",
    "    'min_samples_split':[2 ,4, 6, 8, 16, 20]\n",
    "}\n",
    "\n",
    "stroke_model_Gradient = GradientBoostingRegressor()\n",
    "\n",
    "stroke_model_Gradient_grid_cv = GridSearchCV(stroke_model_Gradient, param_grid = params, cv=2, n_jobs=-1)\n",
    "\n",
    "stroke_model_Gradient_grid_cv.fit(X_train, y_train)\n",
    "\n",
    "print(\"Accuracy on training set:{:.5f}\".format(stroke_model_Gradient_grid_cv.score(X_train, y_train)))\n",
    "print(\"Accuracy on test set:{:.5f}\".format(stroke_model_Gradient_grid_cv.score(X_test, y_test)))\n",
    "print('최적의 하이퍼 파라미터 :',stroke_model_Gradient_grid_cv.best_params_)\n",
    "print('최적의 예측 정확도 :',stroke_model_Gradient_grid_cv.best_score_)"
   ]
  },
  {
   "cell_type": "code",
   "execution_count": 26,
   "id": "b654bd7e",
   "metadata": {},
   "outputs": [
    {
     "name": "stdout",
     "output_type": "stream",
     "text": [
      "[LightGBM] [Warning] min_data_in_leaf is set with min_child_samples=20, will be overridden by min_samples_leaf=18. Current value: min_data_in_leaf=18\n",
      "[LightGBM] [Warning] Unknown parameter: min_samples_split\n",
      "Accuracy on training set:0.73686\n",
      "Accuracy on test set:0.68399\n",
      "최적의 하이퍼 파라미터 : {'max_depth': 2, 'min_samples_leaf': 18, 'min_samples_split': 2, 'n_estimators': 100}\n",
      "최적의 예측 정확도 : 0.6389068850679018\n"
     ]
    }
   ],
   "source": [
    "from lightgbm import LGBMRegressor\n",
    "from sklearn.model_selection import GridSearchCV\n",
    "\n",
    "params = {\n",
    "    'n_estimators':[100],\n",
    "    'max_depth':[2 ,4 ,6, 8, 10, 12],\n",
    "    'min_samples_leaf':[2 ,4, 6, 8, 12, 18],\n",
    "    'min_samples_split':[2 ,4, 6, 8, 16, 20]\n",
    "}\n",
    "\n",
    "stroke_model_LGBM = LGBMRegressor()\n",
    "\n",
    "stroke_model_LGBM_grid_cv = GridSearchCV(stroke_model_LGBM, param_grid = params, cv=2, n_jobs=-1)\n",
    "\n",
    "stroke_model_LGBM_grid_cv.fit(X_train, y_train)                              \n",
    "                              \n",
    "print(\"Accuracy on training set:{:.5f}\".format(stroke_model_LGBM_grid_cv.score(X_train, y_train)))\n",
    "print(\"Accuracy on test set:{:.5f}\".format(stroke_model_LGBM_grid_cv.score(X_test, y_test)))\n",
    "print('최적의 하이퍼 파라미터 :',stroke_model_LGBM_grid_cv.best_params_)\n",
    "print('최적의 예측 정확도 :',stroke_model_LGBM_grid_cv.best_score_)"
   ]
  },
  {
   "cell_type": "code",
   "execution_count": null,
   "id": "02cf4d2f",
   "metadata": {},
   "outputs": [],
   "source": []
  }
 ],
 "metadata": {
  "kernelspec": {
   "display_name": "Python 3 (ipykernel)",
   "language": "python",
   "name": "python3"
  },
  "language_info": {
   "codemirror_mode": {
    "name": "ipython",
    "version": 3
   },
   "file_extension": ".py",
   "mimetype": "text/x-python",
   "name": "python",
   "nbconvert_exporter": "python",
   "pygments_lexer": "ipython3",
   "version": "3.9.12"
  },
  "vscode": {
   "interpreter": {
    "hash": "9280d57a5d3c86bbfd27f99668ff2f14a53df2c9ec1fc3544904cf96ef62466b"
   }
  }
 },
 "nbformat": 4,
 "nbformat_minor": 5
}
